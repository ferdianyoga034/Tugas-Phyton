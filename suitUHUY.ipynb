{
 "cells": [
  {
   "cell_type": "code",
   "execution_count": 3,
   "metadata": {},
   "outputs": [
    {
     "name": "stdout",
     "output_type": "stream",
     "text": [
      "SUIT UHUY\n",
      "Lawan komputer dulu, baru lawan aku\n",
      "Daftar pilihan\n",
      "\n",
      "1.Semut\n",
      "2.Orang\n",
      "3.Gajah\n",
      "\n",
      "masukan pilihan   :2\n",
      "Anda     :Orang\n",
      "Komputer : Semut\n",
      "\tYey kamu menang\n"
     ]
    }
   ],
   "source": [
    "import random\n",
    "print(\"SUIT UHUY\")\n",
    "print(\"Lawan komputer dulu, baru lawan aku\")\n",
    "print(\"Daftar pilihan\")\n",
    "print()\n",
    "print(\"1.Semut\")\n",
    "print(\"2.Orang\")\n",
    "print(\"3.Gajah\")\n",
    "print()\n",
    "\n",
    "def game_sederhana():\n",
    "    kom=random.choice([\"Semut\",\"Orang\",\"Gajah\"])\n",
    "    pil=int(input(\"masukan pilihan   :\"))\n",
    "    if pil==1:\n",
    "        print(\"Anda     :Semut\")\n",
    "        print(\"Komputer :\",kom)\n",
    "        if kom==\"Semut\":\n",
    "            print(\"\\tSeri\")\n",
    "        if kom==\"Orang\":\n",
    "            print(\"\\tYah kamu kalah\")\n",
    "        if kom==\"Gajah\":\n",
    "            print(\"\\tYey kamu menang\")\n",
    "    if pil==2:\n",
    "        print(\"Anda     :Orang\")\n",
    "        print(\"Komputer :\",kom)\n",
    "        if kom==\"Orang\":\n",
    "            print(\"\\tSeri\")\n",
    "        if kom==\"Gajah\":\n",
    "            print(\"\\tYah kamu kalah\")\n",
    "        if kom==\"Semut\":\n",
    "            print(\"\\tYey kamu menang\")     \n",
    "    if pil==3:\n",
    "        print(\"Anda     :Gajah\")\n",
    "        print(\"Komputer :\",kom)\n",
    "        if kom==\"Gajah\":\n",
    "            print(\"\\tSeri\")\n",
    "        if kom==\"Semut\":\n",
    "            print(\"\\tYah kamu kalah\")\n",
    "        if kom==\"Orang\":\n",
    "            print(\"\\tYey kamu menang\")\n",
    "    if pil>=4:\n",
    "        print(\"Pilhan tidak ada, ayo pilih lagi\")\n",
    "        \n",
    "game_sederhana()\n"
   ]
  },
  {
   "cell_type": "code",
   "execution_count": null,
   "metadata": {},
   "outputs": [],
   "source": []
  }
 ],
 "metadata": {
  "kernelspec": {
   "display_name": "Python 3",
   "language": "python",
   "name": "python3"
  },
  "language_info": {
   "codemirror_mode": {
    "name": "ipython",
    "version": 3
   },
   "file_extension": ".py",
   "mimetype": "text/x-python",
   "name": "python",
   "nbconvert_exporter": "python",
   "pygments_lexer": "ipython3",
   "version": "3.7.4"
  }
 },
 "nbformat": 4,
 "nbformat_minor": 2
}
